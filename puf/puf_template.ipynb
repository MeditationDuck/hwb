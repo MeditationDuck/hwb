{
  "cells": [
    {
      "cell_type": "code",
      "execution_count": null,
      "metadata": {
        "id": "EHCX1Up8x-49"
      },
      "outputs": [],
      "source": []
    },
    {
      "cell_type": "code",
      "execution_count": 1,
      "metadata": {
        "id": "qIH9E-egIPJk"
      },
      "outputs": [],
      "source": [
        "import os\n",
        "import numpy as np\n",
        "\n",
        "# if not os.path.exists(\"chip1.bin\"):\n",
        "  # !wget https://users.fit.cvut.cz/bucekj/SRAM_data.zip\n",
        "  # !unzip SRAM_data.zip"
      ]
    },
    {
      "cell_type": "code",
      "execution_count": 2,
      "metadata": {
        "id": "c6CaoHF7IVcf"
      },
      "outputs": [],
      "source": [
        "# Load PUF responses from files\n",
        "# file contents is 1000 x 512B, i.e. 1000 x 512 x 8 b\n",
        "\n",
        "MEASUREMENTS = 1000\n",
        "MEM_SIZE = 512*8\n",
        "CHIPS = 10\n",
        "\n",
        "memories = np.array([\n",
        "    np.unpackbits(\n",
        "        np.fromfile(f\"chip{i+1}.bin\", dtype='uint8')\n",
        "    ).reshape(MEASUREMENTS, MEM_SIZE)\n",
        "    for i in range(CHIPS)\n",
        "])"
      ]
    },
    {
      "cell_type": "code",
      "execution_count": 3,
      "metadata": {
        "id": "IVARKdgpMOgI"
      },
      "outputs": [
        {
          "data": {
            "text/plain": [
              "(10, 1000, 4096)"
            ]
          },
          "execution_count": 3,
          "metadata": {},
          "output_type": "execute_result"
        }
      ],
      "source": [
        "memories.shape"
      ]
    },
    {
      "cell_type": "code",
      "execution_count": 4,
      "metadata": {
        "id": "X0V4i_IkMf_v"
      },
      "outputs": [
        {
          "name": "stdout",
          "output_type": "stream",
          "text": [
            "0.491569384765625\n",
            "[[0.    0.    1.    ... 0.787 1.    0.   ]\n",
            " [0.    1.    0.473 ... 0.029 1.    0.   ]\n",
            " [1.    0.    1.    ... 0.    0.107 1.   ]\n",
            " ...\n",
            " [0.756 0.    1.    ... 0.    1.    0.   ]\n",
            " [1.    1.    0.996 ... 0.963 1.    0.   ]\n",
            " [1.    0.755 0.    ... 1.    1.    0.   ]]\n",
            "(10, 4096)\n"
          ]
        }
      ],
      "source": [
        "# USEFUL HINT\n",
        "# Calculating mean (along specific axis)\n",
        "# Try out different axes.\n",
        "# What is the correct axis to produce a mean response of each chip?\n",
        "print(memories.mean())\n",
        "print(memories.mean(axis=1))\n",
        "print(memories.mean(axis=1).shape)"
      ]
    },
    {
      "cell_type": "code",
      "execution_count": 6,
      "metadata": {
        "id": "K7Fu_BsaNW1P"
      },
      "outputs": [
        {
          "name": "stdout",
          "output_type": "stream",
          "text": [
            "[ True False False False  True  True False  True False  True]\n",
            "[ True  True False  True  True  True  True  True  True False]\n"
          ]
        },
        {
          "data": {
            "text/plain": [
              "array([False,  True, False,  True, False, False,  True, False,  True,\n",
              "        True])"
            ]
          },
          "execution_count": 6,
          "metadata": {},
          "output_type": "execute_result"
        }
      ],
      "source": [
        "# USEFUL HINT\n",
        "# Find elements satisfying specific condition => conversion to array of boolean values\n",
        "a=np.array([5,4,1,1,8,9,1,10,0,11])\n",
        "b=np.array([1,4,99,54,11,67,21,0,18,84])\n",
        "a2 = a>4\n",
        "b2 = b<70\n",
        "print(a2)\n",
        "print(b2)\n",
        "a2^b2 # XOR of two boolean arrays"
      ]
    },
    {
      "cell_type": "code",
      "execution_count": 7,
      "metadata": {
        "id": "Iba9M10hIZql"
      },
      "outputs": [
        {
          "name": "stdout",
          "output_type": "stream",
          "text": [
            "(10, 4096)\n",
            "[[False False  True ...  True  True False]\n",
            " [False  True False ... False  True False]\n",
            " [ True False  True ... False False  True]\n",
            " ...\n",
            " [ True False  True ... False  True False]\n",
            " [ True  True  True ...  True  True False]\n",
            " [ True  True False ...  True  True False]]\n"
          ]
        }
      ],
      "source": [
        "# Create reference responses\n",
        "avgs = memories.mean(axis=1)\n",
        "\n",
        "refs = avgs > 0.5 # ??? # reference responses (array of boolean values?)\n",
        "                     \n",
        "# refs = ??? # reference responses (array of boolean values?)\n",
        "\n",
        "print(refs.shape)\n",
        "print(refs)"
      ]
    },
    {
      "cell_type": "code",
      "execution_count": 8,
      "metadata": {
        "id": "MOtD12z9ReSg"
      },
      "outputs": [
        {
          "name": "stdout",
          "output_type": "stream",
          "text": [
            "[1 0 1 0]\n",
            "[0 1 0]\n"
          ]
        }
      ],
      "source": [
        "# To compute HDintra, we need to be able to calculate hamming distance between responses and reference responses\n",
        "# Hamming distance can be calculated as: HD(x, y) = HW(x xor y)\n",
        "# Example:\n",
        "x = np.array([1,0,1,0])\n",
        "y = np.array([1,1,0,0])\n",
        "# print(x ^ y)\n",
        "print(x)\n",
        "print(x[1:])"
      ]
    },
    {
      "cell_type": "code",
      "execution_count": 9,
      "metadata": {
        "id": "K9sykz9kR3qP"
      },
      "outputs": [
        {
          "name": "stdout",
          "output_type": "stream",
          "text": [
            "(10, 4096)\n",
            "(10, 1000, 4096)\n",
            "(3, 4)\n",
            "(2, 4)\n",
            "added\n",
            "(2, 1, 4)\n",
            "[[[0 1 1 0]\n",
            "  [0 0 1 1]\n",
            "  [1 1 0 0]]\n",
            "\n",
            " [[1 0 0 1]\n",
            "  [1 1 0 0]\n",
            "  [0 0 1 1]]]\n",
            "(2, 3, 4)\n"
          ]
        }
      ],
      "source": [
        "# Responses and reference responses have different dimensions\n",
        "print(refs.shape)\n",
        "print(memories.shape)\n",
        "\n",
        "# HINT\n",
        "# Add missing dimensions by indexing with None (or np.newaxis)\n",
        "# Use the Numpy broadcasting mechanism to stretch one array to the shape of the other\n",
        "# https://numpy.org/doc/stable/user/basics.broadcasting.html\n",
        "x = np.array([[1,0,1,0], [1,1,1,1], [0,0,0,0]])\n",
        "y = np.array([[1,1,0,0], [0,0,1,1]])\n",
        "print(x.shape)\n",
        "print(y.shape)\n",
        "print(\"added\")\n",
        "print(y[:,None].shape)\n",
        "z=y[:, None]^x\n",
        "print(z)\n",
        "print(z.shape)"
      ]
    },
    {
      "cell_type": "code",
      "execution_count": 10,
      "metadata": {
        "id": "0elUoltMIbZW"
      },
      "outputs": [
        {
          "name": "stdout",
          "output_type": "stream",
          "text": [
            "(10, 1000, 4096)\n",
            "[[[0 0 0 ... 0 0 0]\n",
            "  [0 0 0 ... 0 0 0]\n",
            "  [0 0 0 ... 0 0 0]\n",
            "  ...\n",
            "  [0 0 0 ... 0 0 0]\n",
            "  [0 0 0 ... 1 0 0]\n",
            "  [0 0 0 ... 0 0 0]]\n",
            "\n",
            " [[0 0 0 ... 0 0 0]\n",
            "  [0 0 0 ... 0 0 0]\n",
            "  [0 0 0 ... 0 0 0]\n",
            "  ...\n",
            "  [0 0 1 ... 0 0 0]\n",
            "  [0 0 0 ... 0 0 0]\n",
            "  [0 0 1 ... 0 0 0]]\n",
            "\n",
            " [[0 0 0 ... 0 0 0]\n",
            "  [0 0 0 ... 0 0 0]\n",
            "  [0 0 0 ... 0 1 0]\n",
            "  ...\n",
            "  [0 0 0 ... 0 0 0]\n",
            "  [0 0 0 ... 0 0 0]\n",
            "  [0 0 0 ... 0 0 0]]\n",
            "\n",
            " ...\n",
            "\n",
            " [[0 0 0 ... 0 0 0]\n",
            "  [0 0 0 ... 0 0 0]\n",
            "  [0 0 0 ... 0 0 0]\n",
            "  ...\n",
            "  [0 0 0 ... 0 0 0]\n",
            "  [0 0 0 ... 0 0 0]\n",
            "  [0 0 0 ... 0 0 0]]\n",
            "\n",
            " [[0 0 0 ... 0 0 0]\n",
            "  [0 0 0 ... 0 0 0]\n",
            "  [0 0 0 ... 0 0 0]\n",
            "  ...\n",
            "  [0 0 0 ... 0 0 0]\n",
            "  [0 0 0 ... 0 0 0]\n",
            "  [0 0 0 ... 0 0 0]]\n",
            "\n",
            " [[0 0 0 ... 0 0 0]\n",
            "  [0 0 0 ... 0 0 0]\n",
            "  [0 1 0 ... 0 0 0]\n",
            "  ...\n",
            "  [0 0 0 ... 0 0 0]\n",
            "  [0 0 0 ... 0 0 0]\n",
            "  [0 0 0 ... 0 0 0]]]\n",
            "(10, 1000)\n",
            "(10,)\n",
            "3.0485107421875\n"
          ]
        }
      ],
      "source": [
        "# Compute HDintra\n",
        "xors = refs[:,None, :] ^ memories\n",
        "print(xors.shape)\n",
        "print(xors)\n",
        "\n",
        "# ??? # finish HDintra calculation (look at the definition)\n",
        "hamming_distances = np.sum(xors, axis=2)\n",
        "# value_for_mask = np.sum(xors, axis=1)\n",
        "# print(value_for_mask.shape)\n",
        "# print(value_for_mask)\n",
        "print(hamming_distances.shape)\n",
        "total_hamming_distances = np.sum(hamming_distances, axis=-1)\n",
        "print(total_hamming_distances.shape)\n",
        "HD_intra = total_hamming_distances.mean() / (1000*4096) * 100\n",
        "print(HD_intra)\n",
        "\n",
        "\n",
        "# MEASUREMENTS = 1000\n",
        "# MEM_SIZE = 512*8\n",
        "# CHIPS = 10"
      ]
    },
    {
      "cell_type": "code",
      "execution_count": 11,
      "metadata": {
        "id": "2orRDbEnIdKh"
      },
      "outputs": [
        {
          "name": "stdout",
          "output_type": "stream",
          "text": [
            "(array([0, 0, 0, 0, 0, 0, 0, 0, 0, 1, 1, 1, 1, 1, 1, 1, 1, 2, 2, 2, 2, 2,\n",
            "       2, 2, 3, 3, 3, 3, 3, 3, 4, 4, 4, 4, 4, 5, 5, 5, 5, 6, 6, 6, 7, 7,\n",
            "       8]), array([1, 2, 3, 4, 5, 6, 7, 8, 9, 2, 3, 4, 5, 6, 7, 8, 9, 3, 4, 5, 6, 7,\n",
            "       8, 9, 4, 5, 6, 7, 8, 9, 5, 6, 7, 8, 9, 6, 7, 8, 9, 7, 8, 9, 8, 9,\n",
            "       9]))\n",
            "(45, 4096)\n",
            "(2, 45, 4096)\n",
            "43.57313368055556\n"
          ]
        }
      ],
      "source": [
        "# Compute HDinter\n",
        "# We need to compute HD of all pairs of reference responses\n",
        "idxs = np.triu_indices(CHIPS, 1)\n",
        "# returns a tuple of indexes of upper triangle of N x N matrix (N=CHIPS in this case)\n",
        "# - useful for all possible pairwise combinations of elements in one array (reference responses in our case)\n",
        "print(idxs)\n",
        "print(refs[idxs[0]].shape)\n",
        "print(refs[idxs,:].shape)\n",
        "pairwise_xors = refs[idxs[0]] ^ refs[idxs[1]]\n",
        "hamming_distances = pairwise_xors.sum(axis=-1)\n",
        "total_hamming_distances = hamming_distances.sum(axis=-1)\n",
        "\n",
        "HD_inter = total_hamming_distances * 2 / (CHIPS*(CHIPS-1)) * 100 /4096\n",
        "print(HD_inter)"
      ]
    },
    {
      "cell_type": "code",
      "execution_count": 25,
      "metadata": {
        "id": "M4maPUbhIfF2"
      },
      "outputs": [
        {
          "name": "stdout",
          "output_type": "stream",
          "text": [
            "(10, 4096)\n",
            "[[0.    0.    0.    ... 0.213 0.    0.   ]\n",
            " [0.    0.    0.473 ... 0.029 0.    0.   ]\n",
            " [0.    0.    0.    ... 0.    0.107 0.   ]\n",
            " ...\n",
            " [0.244 0.    0.    ... 0.    0.    0.   ]\n",
            " [0.    0.    0.004 ... 0.037 0.    0.   ]\n",
            " [0.    0.245 0.    ... 0.    0.    0.   ]]\n",
            "[[ True  True  True ... False  True  True]\n",
            " [ True  True False ...  True  True  True]\n",
            " [ True  True  True ...  True False  True]\n",
            " ...\n",
            " [False  True  True ...  True  True  True]\n",
            " [ True  True  True ...  True  True  True]\n",
            " [ True False  True ...  True  True  True]]\n",
            "3649\n"
          ]
        }
      ],
      "source": [
        "# Create masks\n",
        "e = 0.1 # Choose an acceptable error rate to be included into the mask\n",
        "\n",
        "value_for_mask = np.sum(xors, axis=1)\n",
        "print(value_for_mask.shape)\n",
        "value_for_mask = value_for_mask/1000\n",
        "print(value_for_mask)\n",
        "# print(value_for_mask)\n",
        "masks = (value_for_mask > (1-e)) | (value_for_mask < e)\n",
        "masks.shape\n",
        "print(masks)\n",
        "print(np.sum(masks[0]))"
      ]
    },
    {
      "cell_type": "code",
      "execution_count": 19,
      "metadata": {
        "id": "JQaOfv7Jin6S"
      },
      "outputs": [],
      "source": [
        "# Save masks into file\n",
        "np.savetxt('masks.txt', masks.astype(int), fmt='%d', delimiter='')"
      ]
    },
    {
      "cell_type": "code",
      "execution_count": 20,
      "metadata": {
        "id": "qsDh1_3DImCW"
      },
      "outputs": [
        {
          "name": "stdout",
          "output_type": "stream",
          "text": [
            "[[False False  True ...  True False  True]\n",
            " [False  True False ... False  True False]\n",
            " [ True False  True ... False  True False]\n",
            " ...\n",
            " [False  True False ... False False  True]\n",
            " [ True  True  True ... False  True  True]\n",
            " [ True False False ... False  True False]]\n",
            "(10, 1024)\n",
            "(10, 1000, 1024)\n"
          ]
        }
      ],
      "source": [
        "# Create masked responses (1024 bits long)\n",
        "mask_idx = np.array([np.nonzero(masks[i])[0][:1024] for i in range(10)])\n",
        "memories_masked = np.array([memories[i][:,mask_idx[i]] for i in range(10)])\n",
        "refs_masked = np.array([refs[i][mask_idx[i]] for i in range(10)])\n",
        "print(refs_masked)\n",
        "print(refs_masked.shape)\n",
        "\n",
        "print(memories_masked.shape)"
      ]
    },
    {
      "cell_type": "code",
      "execution_count": 26,
      "metadata": {
        "id": "IhsqiP0WIqTe"
      },
      "outputs": [
        {
          "name": "stdout",
          "output_type": "stream",
          "text": [
            "(10, 1000, 1024)\n",
            "(10, 1024)\n",
            "(10,)\n",
            "[0.00906934 0.01079492 0.00967578 0.00985547 0.00836035 0.00753809\n",
            " 0.00950977 0.00818457 0.00956641 0.00788867]\n",
            "0.90443359375\n"
          ]
        }
      ],
      "source": [
        "# Compute HDintra of masked PUF responses\n",
        "# Compute HDintra\n",
        "xors_2 = refs_masked[:,None, :] ^ memories_masked\n",
        "# print(xors.shape)\n",
        "print(xors_2.shape)\n",
        "\n",
        "# ??? # finish HDintra calculation (look at the definition)\n",
        "hamming_distances = np.sum(xors_2, axis=1)\n",
        "hamming_distances = hamming_distances/1000\n",
        "# print(hamming_distances.shape)\n",
        "print(hamming_distances.shape)\n",
        "total_hamming_distances = np.sum(hamming_distances, axis=-1)\n",
        "total_hamming_distances = total_hamming_distances/1024\n",
        "print(total_hamming_distances.shape)\n",
        "print(total_hamming_distances)\n",
        "masked_HD_intra = total_hamming_distances.mean()*100\n",
        "print(masked_HD_intra)"
      ]
    },
    {
      "cell_type": "code",
      "execution_count": 27,
      "metadata": {
        "id": "S8omYwr1It2_"
      },
      "outputs": [
        {
          "name": "stdout",
          "output_type": "stream",
          "text": [
            "50.14756944444444\n"
          ]
        }
      ],
      "source": [
        "# Compute HDinter of masked PUF responses\n",
        "# Compute HDinter\n",
        "# We need to compute HD of all pairs of reference responses\n",
        "idxs = np.triu_indices(CHIPS, 1)\n",
        "# returns a tuple of indexes of upper triangle of N x N matrix (N=CHIPS in this case)\n",
        "# - useful for all possible pairwise combinations of elements in one array (reference responses in our case)\n",
        "# print(idxs)\n",
        "# print(refs[idxs[0]].shape)\n",
        "# print(refs[idxs,:].shape)\n",
        "pairwise_xors = refs_masked[idxs[0]] ^ refs_masked[idxs[1]]\n",
        "hamming_distances = pairwise_xors.sum(axis=-1)\n",
        "total_hamming_distances = hamming_distances.sum(axis=-1)\n",
        "\n",
        "masked_HD_inter = total_hamming_distances * 2 / (CHIPS*(CHIPS-1)) * 100 /1024\n",
        "print(masked_HD_inter)"
      ]
    },
    {
      "cell_type": "code",
      "execution_count": 28,
      "metadata": {
        "id": "jB0oHd-Mjkbx"
      },
      "outputs": [
        {
          "name": "stdout",
          "output_type": "stream",
          "text": [
            "3.0485107421875 43.57313368055556 0.90443359375 50.14756944444444\n"
          ]
        }
      ],
      "source": [
        "# Print a summary of results (HDintra, HDinter - for both unmasked and masked PUF responses)\n",
        "print(HD_intra, HD_inter, masked_HD_intra, masked_HD_inter)"
      ]
    }
  ],
  "metadata": {
    "colab": {
      "provenance": []
    },
    "kernelspec": {
      "display_name": "Python 3",
      "name": "python3"
    },
    "language_info": {
      "codemirror_mode": {
        "name": "ipython",
        "version": 3
      },
      "file_extension": ".py",
      "mimetype": "text/x-python",
      "name": "python",
      "nbconvert_exporter": "python",
      "pygments_lexer": "ipython3",
      "version": "3.11.4"
    }
  },
  "nbformat": 4,
  "nbformat_minor": 0
}
